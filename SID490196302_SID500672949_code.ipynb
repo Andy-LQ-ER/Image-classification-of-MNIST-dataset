{
  "cells": [
    {
      "cell_type": "markdown",
      "metadata": {
        "id": "EIjPMjawv6AE"
      },
      "source": [
        "# COMP5318 - Machine Learning and Data Mining: Assignment 1\n",
        "<div style=\"text-align: right\"> Due: Friday Week 7 - Fri 8 April 2022 11:59PM </div>"
      ]
    },
    {
      "cell_type": "markdown",
      "metadata": {
        "id": "_68rMJ8-v6AG"
      },
      "source": [
        "# 1. Summary\n",
        "The goal of this assignment is to build a classifier to classify some grayscale images of the size 28x28 into a set of categories. The dimension of the original data is large, so you need to be smart on which method you gonna use and perhaps perform a pre-processing step to reduce the amount of computation. Part of your marks will be a function of the performance of your classifier on the test set."
      ]
    },
    {
      "cell_type": "markdown",
      "metadata": {
        "id": "x1SXgYF3v6AG"
      },
      "source": [
        "# 2. Dataset description\n",
        "The dataset can be downloaded from Canvas. The dataset consists of a training set of 30,000 examples and a test set of 5,000 examples. They belong to 10 different categories. The validation set is not provided, but you can randomly pick a subset of the training set for validation. The features of the 5,000 test examples are given, you will analyse the performance of your proposed method by uploading the predicted labels of test examples onto [Kaggle Leaderboard](https://www.kaggle.com/t/a781604ffe46a42f903dd4be1b9daf16). You can find the instruction of using the leaderboard in Part 5.2. The leaderboard will compute the accuracy of your model, and team ranking will be shown based on the performance. Please note that we provide only PART of the original Fashion-MNIST, you must use the GIVEN `train.csv` (not the original dataset from the official website) for training; or it will be considered as cheating. <br />\n",
        "Here are examples illustrating samples of the dataset (each class takes one row):"
      ]
    },
    {
      "cell_type": "markdown",
      "metadata": {
        "id": "OeDkrv0Lv6AH"
      },
      "source": [
        "<img src=\"Dataset_image.jpg\" alt=\"DataSet\" title=\"DataSet\" width=\"450\" height=\"300\" />"
      ]
    },
    {
      "cell_type": "markdown",
      "metadata": {
        "id": "rFgwQuKxv6AH"
      },
      "source": [
        "There are 10 classes in total:\n",
        "\n",
        "    - 0 T-shirt/Top\n",
        "    - 1 Trouser\n",
        "    - 2 Pullover\n",
        "    - 3 Dress\n",
        "    - 4 Coat\n",
        "    - 5 Sandal\n",
        "    - 6 Shirt\n",
        "    - 7 Sneaker\n",
        "    - 8 Bag\n",
        "    - 9 Ankle boot"
      ]
    },
    {
      "cell_type": "markdown",
      "source": [
        "Following is the cpu stats"
      ],
      "metadata": {
        "id": "ogyRXht5REzT"
      }
    },
    {
      "cell_type": "code",
      "source": [
        "from psutil import *\n",
        "\n"
      ],
      "metadata": {
        "id": "9BsHGCnuRD-s"
      },
      "execution_count": 4,
      "outputs": []
    },
    {
      "cell_type": "code",
      "source": [
        "cpu_count()"
      ],
      "metadata": {
        "colab": {
          "base_uri": "https://localhost:8080/"
        },
        "id": "dTRfepeVRLjA",
        "outputId": "7cfbd259-6116-48f4-c18e-d019707728f5"
      },
      "execution_count": 5,
      "outputs": [
        {
          "output_type": "execute_result",
          "data": {
            "text/plain": [
              "2"
            ]
          },
          "metadata": {},
          "execution_count": 5
        }
      ]
    },
    {
      "cell_type": "code",
      "source": [
        "cpu_stats()"
      ],
      "metadata": {
        "colab": {
          "base_uri": "https://localhost:8080/"
        },
        "id": "TAYCRu2ORLq5",
        "outputId": "b5bdb5f6-b317-4dc3-ab2d-0dfa98a0b4b1"
      },
      "execution_count": 6,
      "outputs": [
        {
          "output_type": "execute_result",
          "data": {
            "text/plain": [
              "scpustats(ctx_switches=684486, interrupts=497247, soft_interrupts=516001, syscalls=0)"
            ]
          },
          "metadata": {},
          "execution_count": 6
        }
      ]
    },
    {
      "cell_type": "code",
      "source": [
        "!cat /proc/cpuinfo"
      ],
      "metadata": {
        "colab": {
          "base_uri": "https://localhost:8080/"
        },
        "id": "w-Ij7dOLRQEu",
        "outputId": "d56e981f-55f5-4460-91a8-7944e3e7d5f2"
      },
      "execution_count": 7,
      "outputs": [
        {
          "output_type": "stream",
          "name": "stdout",
          "text": [
            "processor\t: 0\n",
            "vendor_id\t: GenuineIntel\n",
            "cpu family\t: 6\n",
            "model\t\t: 79\n",
            "model name\t: Intel(R) Xeon(R) CPU @ 2.20GHz\n",
            "stepping\t: 0\n",
            "microcode\t: 0x1\n",
            "cpu MHz\t\t: 2200.202\n",
            "cache size\t: 56320 KB\n",
            "physical id\t: 0\n",
            "siblings\t: 2\n",
            "core id\t\t: 0\n",
            "cpu cores\t: 1\n",
            "apicid\t\t: 0\n",
            "initial apicid\t: 0\n",
            "fpu\t\t: yes\n",
            "fpu_exception\t: yes\n",
            "cpuid level\t: 13\n",
            "wp\t\t: yes\n",
            "flags\t\t: fpu vme de pse tsc msr pae mce cx8 apic sep mtrr pge mca cmov pat pse36 clflush mmx fxsr sse sse2 ss ht syscall nx pdpe1gb rdtscp lm constant_tsc rep_good nopl xtopology nonstop_tsc cpuid tsc_known_freq pni pclmulqdq ssse3 fma cx16 pcid sse4_1 sse4_2 x2apic movbe popcnt aes xsave avx f16c rdrand hypervisor lahf_lm abm 3dnowprefetch invpcid_single ssbd ibrs ibpb stibp fsgsbase tsc_adjust bmi1 hle avx2 smep bmi2 erms invpcid rtm rdseed adx smap xsaveopt arat md_clear arch_capabilities\n",
            "bugs\t\t: cpu_meltdown spectre_v1 spectre_v2 spec_store_bypass l1tf mds swapgs taa\n",
            "bogomips\t: 4400.40\n",
            "clflush size\t: 64\n",
            "cache_alignment\t: 64\n",
            "address sizes\t: 46 bits physical, 48 bits virtual\n",
            "power management:\n",
            "\n",
            "processor\t: 1\n",
            "vendor_id\t: GenuineIntel\n",
            "cpu family\t: 6\n",
            "model\t\t: 79\n",
            "model name\t: Intel(R) Xeon(R) CPU @ 2.20GHz\n",
            "stepping\t: 0\n",
            "microcode\t: 0x1\n",
            "cpu MHz\t\t: 2200.202\n",
            "cache size\t: 56320 KB\n",
            "physical id\t: 0\n",
            "siblings\t: 2\n",
            "core id\t\t: 0\n",
            "cpu cores\t: 1\n",
            "apicid\t\t: 1\n",
            "initial apicid\t: 1\n",
            "fpu\t\t: yes\n",
            "fpu_exception\t: yes\n",
            "cpuid level\t: 13\n",
            "wp\t\t: yes\n",
            "flags\t\t: fpu vme de pse tsc msr pae mce cx8 apic sep mtrr pge mca cmov pat pse36 clflush mmx fxsr sse sse2 ss ht syscall nx pdpe1gb rdtscp lm constant_tsc rep_good nopl xtopology nonstop_tsc cpuid tsc_known_freq pni pclmulqdq ssse3 fma cx16 pcid sse4_1 sse4_2 x2apic movbe popcnt aes xsave avx f16c rdrand hypervisor lahf_lm abm 3dnowprefetch invpcid_single ssbd ibrs ibpb stibp fsgsbase tsc_adjust bmi1 hle avx2 smep bmi2 erms invpcid rtm rdseed adx smap xsaveopt arat md_clear arch_capabilities\n",
            "bugs\t\t: cpu_meltdown spectre_v1 spectre_v2 spec_store_bypass l1tf mds swapgs taa\n",
            "bogomips\t: 4400.40\n",
            "clflush size\t: 64\n",
            "cache_alignment\t: 64\n",
            "address sizes\t: 46 bits physical, 48 bits virtual\n",
            "power management:\n",
            "\n"
          ]
        }
      ]
    },
    {
      "cell_type": "code",
      "source": [
        "!df -h"
      ],
      "metadata": {
        "colab": {
          "base_uri": "https://localhost:8080/"
        },
        "id": "zTUhQWuZSmRB",
        "outputId": "f37e14ca-41ae-47a8-c07c-b175a18f237d"
      },
      "execution_count": 8,
      "outputs": [
        {
          "output_type": "stream",
          "name": "stdout",
          "text": [
            "Filesystem      Size  Used Avail Use% Mounted on\n",
            "overlay         108G   40G   69G  37% /\n",
            "tmpfs            64M     0   64M   0% /dev\n",
            "shm             5.8G     0  5.8G   0% /dev/shm\n",
            "/dev/root       2.0G  1.2G  817M  59% /sbin/docker-init\n",
            "tmpfs           6.4G   32K  6.4G   1% /var/colab\n",
            "/dev/sda1        81G   44G   38G  54% /etc/hosts\n",
            "tmpfs           6.4G     0  6.4G   0% /proc/acpi\n",
            "tmpfs           6.4G     0  6.4G   0% /proc/scsi\n",
            "tmpfs           6.4G     0  6.4G   0% /sys/firmware\n"
          ]
        }
      ]
    },
    {
      "cell_type": "code",
      "source": [
        "virtual_memory()"
      ],
      "metadata": {
        "colab": {
          "base_uri": "https://localhost:8080/"
        },
        "id": "kJSZZe99Snxu",
        "outputId": "413674b2-5208-4407-8880-ef8ce35e4cdc"
      },
      "execution_count": 9,
      "outputs": [
        {
          "output_type": "execute_result",
          "data": {
            "text/plain": [
              "svmem(total=13622190080, available=12279713792, percent=9.9, used=1128124416, free=10084958208, active=1581498368, inactive=1698426880, buffers=189693952, cached=2219413504, shared=1204224, slab=188616704)"
            ]
          },
          "metadata": {},
          "execution_count": 9
        }
      ]
    },
    {
      "cell_type": "code",
      "source": [
        "!python --version"
      ],
      "metadata": {
        "colab": {
          "base_uri": "https://localhost:8080/"
        },
        "id": "vnPScnecUnIJ",
        "outputId": "b873859d-384d-452c-9245-3d98866321d7"
      },
      "execution_count": 10,
      "outputs": [
        {
          "output_type": "stream",
          "name": "stdout",
          "text": [
            "Python 3.7.13\n"
          ]
        }
      ]
    },
    {
      "cell_type": "markdown",
      "metadata": {
        "id": "VQnFYEdnv6AH"
      },
      "source": [
        "## 3.1 load the data"
      ]
    },
    {
      "cell_type": "markdown",
      "metadata": {
        "id": "EZPah8MMv6AI"
      },
      "source": [
        "To read the *csv* file and load the data into a dataframe using pandas. \n",
        "\n",
        "The **training data files are in the ./Input/train** and **testing data file are in ./Input/test**. <br /> Use the following code:"
      ]
    },
    {
      "cell_type": "markdown",
      "metadata": {
        "id": "TIoHnLohKO3R"
      },
      "source": [
        "The required version of matplotlib is above 3.4.3 for the bar plot in this file, pls check your version of matplotlib and if necessary update the matplotlib version"
      ]
    },
    {
      "cell_type": "code",
      "execution_count": 1,
      "metadata": {
        "colab": {
          "base_uri": "https://localhost:8080/"
        },
        "id": "fRuDAV5-v6AU",
        "outputId": "aff39d30-a3df-44fe-fb53-699cc7dd6874",
        "scrolled": true
      },
      "outputs": [
        {
          "output_type": "stream",
          "name": "stdout",
          "text": [
            "matplotlib: 3.2.2\n"
          ]
        }
      ],
      "source": [
        "import matplotlib\n",
        "print('matplotlib: {}'.format(matplotlib.__version__))"
      ]
    },
    {
      "cell_type": "code",
      "execution_count": 11,
      "metadata": {
        "id": "B7tDUFUZKGD6"
      },
      "outputs": [],
      "source": [
        "# pip install -U matplotlib"
      ]
    },
    {
      "cell_type": "code",
      "execution_count": 1,
      "metadata": {
        "id": "ek-vJRlOv6AI"
      },
      "outputs": [],
      "source": [
        "import pandas as pd\n",
        "import os\n",
        "import numpy as np\n",
        "import matplotlib.pyplot as plt\n",
        "from sklearn.neighbors import KNeighborsClassifier\n",
        "from sklearn.model_selection import GridSearchCV\n",
        "from sklearn.metrics import accuracy_score\n",
        "from sklearn.decomposition import PCA\n",
        "from sklearn.metrics import classification_report\n",
        "pd.set_option('display.max_columns', 10)"
      ]
    },
    {
      "cell_type": "code",
      "execution_count": null,
      "metadata": {
        "id": "XRyUxTqlv6AJ"
      },
      "outputs": [],
      "source": [
        "# train.csv including feature and label using for training model.\n",
        "data_train_df = pd.read_csv('./Input/train.csv') "
      ]
    },
    {
      "cell_type": "code",
      "execution_count": null,
      "metadata": {
        "colab": {
          "base_uri": "https://localhost:8080/",
          "height": 236
        },
        "id": "GXDv29bcv6AJ",
        "outputId": "3b8b527f-33b3-46e9-845d-d05fd477e754"
      },
      "outputs": [
        {
          "data": {
            "text/html": [
              "\n",
              "  <div id=\"df-f8a52247-e22e-442d-81a7-11c920f4f7dc\">\n",
              "    <div class=\"colab-df-container\">\n",
              "      <div>\n",
              "<style scoped>\n",
              "    .dataframe tbody tr th:only-of-type {\n",
              "        vertical-align: middle;\n",
              "    }\n",
              "\n",
              "    .dataframe tbody tr th {\n",
              "        vertical-align: top;\n",
              "    }\n",
              "\n",
              "    .dataframe thead th {\n",
              "        text-align: right;\n",
              "    }\n",
              "</style>\n",
              "<table border=\"1\" class=\"dataframe\">\n",
              "  <thead>\n",
              "    <tr style=\"text-align: right;\">\n",
              "      <th></th>\n",
              "      <th>id</th>\n",
              "      <th>v1</th>\n",
              "      <th>v2</th>\n",
              "      <th>v3</th>\n",
              "      <th>v4</th>\n",
              "      <th>...</th>\n",
              "      <th>v781</th>\n",
              "      <th>v782</th>\n",
              "      <th>v783</th>\n",
              "      <th>v784</th>\n",
              "      <th>label</th>\n",
              "    </tr>\n",
              "  </thead>\n",
              "  <tbody>\n",
              "    <tr>\n",
              "      <th>0</th>\n",
              "      <td>0</td>\n",
              "      <td>0</td>\n",
              "      <td>0</td>\n",
              "      <td>0</td>\n",
              "      <td>0</td>\n",
              "      <td>...</td>\n",
              "      <td>0</td>\n",
              "      <td>0</td>\n",
              "      <td>0</td>\n",
              "      <td>0</td>\n",
              "      <td>2</td>\n",
              "    </tr>\n",
              "    <tr>\n",
              "      <th>1</th>\n",
              "      <td>1</td>\n",
              "      <td>0</td>\n",
              "      <td>0</td>\n",
              "      <td>0</td>\n",
              "      <td>0</td>\n",
              "      <td>...</td>\n",
              "      <td>0</td>\n",
              "      <td>0</td>\n",
              "      <td>0</td>\n",
              "      <td>0</td>\n",
              "      <td>1</td>\n",
              "    </tr>\n",
              "    <tr>\n",
              "      <th>2</th>\n",
              "      <td>2</td>\n",
              "      <td>0</td>\n",
              "      <td>0</td>\n",
              "      <td>0</td>\n",
              "      <td>0</td>\n",
              "      <td>...</td>\n",
              "      <td>0</td>\n",
              "      <td>0</td>\n",
              "      <td>0</td>\n",
              "      <td>0</td>\n",
              "      <td>1</td>\n",
              "    </tr>\n",
              "    <tr>\n",
              "      <th>3</th>\n",
              "      <td>3</td>\n",
              "      <td>0</td>\n",
              "      <td>0</td>\n",
              "      <td>0</td>\n",
              "      <td>1</td>\n",
              "      <td>...</td>\n",
              "      <td>0</td>\n",
              "      <td>0</td>\n",
              "      <td>0</td>\n",
              "      <td>0</td>\n",
              "      <td>4</td>\n",
              "    </tr>\n",
              "    <tr>\n",
              "      <th>4</th>\n",
              "      <td>4</td>\n",
              "      <td>0</td>\n",
              "      <td>0</td>\n",
              "      <td>0</td>\n",
              "      <td>0</td>\n",
              "      <td>...</td>\n",
              "      <td>0</td>\n",
              "      <td>0</td>\n",
              "      <td>0</td>\n",
              "      <td>0</td>\n",
              "      <td>8</td>\n",
              "    </tr>\n",
              "  </tbody>\n",
              "</table>\n",
              "<p>5 rows × 786 columns</p>\n",
              "</div>\n",
              "      <button class=\"colab-df-convert\" onclick=\"convertToInteractive('df-f8a52247-e22e-442d-81a7-11c920f4f7dc')\"\n",
              "              title=\"Convert this dataframe to an interactive table.\"\n",
              "              style=\"display:none;\">\n",
              "        \n",
              "  <svg xmlns=\"http://www.w3.org/2000/svg\" height=\"24px\"viewBox=\"0 0 24 24\"\n",
              "       width=\"24px\">\n",
              "    <path d=\"M0 0h24v24H0V0z\" fill=\"none\"/>\n",
              "    <path d=\"M18.56 5.44l.94 2.06.94-2.06 2.06-.94-2.06-.94-.94-2.06-.94 2.06-2.06.94zm-11 1L8.5 8.5l.94-2.06 2.06-.94-2.06-.94L8.5 2.5l-.94 2.06-2.06.94zm10 10l.94 2.06.94-2.06 2.06-.94-2.06-.94-.94-2.06-.94 2.06-2.06.94z\"/><path d=\"M17.41 7.96l-1.37-1.37c-.4-.4-.92-.59-1.43-.59-.52 0-1.04.2-1.43.59L10.3 9.45l-7.72 7.72c-.78.78-.78 2.05 0 2.83L4 21.41c.39.39.9.59 1.41.59.51 0 1.02-.2 1.41-.59l7.78-7.78 2.81-2.81c.8-.78.8-2.07 0-2.86zM5.41 20L4 18.59l7.72-7.72 1.47 1.35L5.41 20z\"/>\n",
              "  </svg>\n",
              "      </button>\n",
              "      \n",
              "  <style>\n",
              "    .colab-df-container {\n",
              "      display:flex;\n",
              "      flex-wrap:wrap;\n",
              "      gap: 12px;\n",
              "    }\n",
              "\n",
              "    .colab-df-convert {\n",
              "      background-color: #E8F0FE;\n",
              "      border: none;\n",
              "      border-radius: 50%;\n",
              "      cursor: pointer;\n",
              "      display: none;\n",
              "      fill: #1967D2;\n",
              "      height: 32px;\n",
              "      padding: 0 0 0 0;\n",
              "      width: 32px;\n",
              "    }\n",
              "\n",
              "    .colab-df-convert:hover {\n",
              "      background-color: #E2EBFA;\n",
              "      box-shadow: 0px 1px 2px rgba(60, 64, 67, 0.3), 0px 1px 3px 1px rgba(60, 64, 67, 0.15);\n",
              "      fill: #174EA6;\n",
              "    }\n",
              "\n",
              "    [theme=dark] .colab-df-convert {\n",
              "      background-color: #3B4455;\n",
              "      fill: #D2E3FC;\n",
              "    }\n",
              "\n",
              "    [theme=dark] .colab-df-convert:hover {\n",
              "      background-color: #434B5C;\n",
              "      box-shadow: 0px 1px 3px 1px rgba(0, 0, 0, 0.15);\n",
              "      filter: drop-shadow(0px 1px 2px rgba(0, 0, 0, 0.3));\n",
              "      fill: #FFFFFF;\n",
              "    }\n",
              "  </style>\n",
              "\n",
              "      <script>\n",
              "        const buttonEl =\n",
              "          document.querySelector('#df-f8a52247-e22e-442d-81a7-11c920f4f7dc button.colab-df-convert');\n",
              "        buttonEl.style.display =\n",
              "          google.colab.kernel.accessAllowed ? 'block' : 'none';\n",
              "\n",
              "        async function convertToInteractive(key) {\n",
              "          const element = document.querySelector('#df-f8a52247-e22e-442d-81a7-11c920f4f7dc');\n",
              "          const dataTable =\n",
              "            await google.colab.kernel.invokeFunction('convertToInteractive',\n",
              "                                                     [key], {});\n",
              "          if (!dataTable) return;\n",
              "\n",
              "          const docLinkHtml = 'Like what you see? Visit the ' +\n",
              "            '<a target=\"_blank\" href=https://colab.research.google.com/notebooks/data_table.ipynb>data table notebook</a>'\n",
              "            + ' to learn more about interactive tables.';\n",
              "          element.innerHTML = '';\n",
              "          dataTable['output_type'] = 'display_data';\n",
              "          await google.colab.output.renderOutput(dataTable, element);\n",
              "          const docLink = document.createElement('div');\n",
              "          docLink.innerHTML = docLinkHtml;\n",
              "          element.appendChild(docLink);\n",
              "        }\n",
              "      </script>\n",
              "    </div>\n",
              "  </div>\n",
              "  "
            ],
            "text/plain": [
              "   id  v1  v2  v3  v4  ...  v781  v782  v783  v784  label\n",
              "0   0   0   0   0   0  ...     0     0     0     0      2\n",
              "1   1   0   0   0   0  ...     0     0     0     0      1\n",
              "2   2   0   0   0   0  ...     0     0     0     0      1\n",
              "3   3   0   0   0   1  ...     0     0     0     0      4\n",
              "4   4   0   0   0   0  ...     0     0     0     0      8\n",
              "\n",
              "[5 rows x 786 columns]"
            ]
          },
          "execution_count": 3,
          "metadata": {},
          "output_type": "execute_result"
        }
      ],
      "source": [
        "data_train_df.head()"
      ]
    },
    {
      "cell_type": "markdown",
      "metadata": {
        "id": "UU1g67pNv6AK"
      },
      "source": [
        "Then data would be a dataframe with 30000 samples including 784 features (from v1 to v784) and its label."
      ]
    },
    {
      "cell_type": "code",
      "execution_count": null,
      "metadata": {
        "id": "Yevq9_gPv6AK"
      },
      "outputs": [],
      "source": [
        "# Selecting input feature\n",
        "data_train_feature = data_train_df.loc[:, \"v1\":\"v784\"].to_numpy()\n",
        "\n",
        "# Selecting output lable \n",
        "data_train_label = data_train_df.label.to_numpy()"
      ]
    },
    {
      "cell_type": "markdown",
      "metadata": {
        "id": "I0hkWTuzv6AK"
      },
      "source": [
        "Showing a sample data. The first example belongs to class 2: Pullover"
      ]
    },
    {
      "cell_type": "code",
      "execution_count": null,
      "metadata": {
        "colab": {
          "base_uri": "https://localhost:8080/",
          "height": 281
        },
        "id": "VSrznrV-v6AK",
        "outputId": "c2c3142a-9cea-4705-ebed-7fd13d7c68ad"
      },
      "outputs": [
        {
          "data": {
            "image/png": "[encoded data removed]",
            "text/plain": [
              "<Figure size 432x288 with 1 Axes>"
            ]
          },
          "metadata": {
            "needs_background": "light"
          },
          "output_type": "display_data"
        }
      ],
      "source": [
        "import matplotlib.pyplot as plt\n",
        "data_train_feature = data_train_feature.reshape((data_train_feature.shape[0], 28, 28))\n",
        "plt.imshow(data_train_feature[0], cmap=plt.get_cmap('gray'))\n",
        "plt.title(\"class \" + str(data_train_label[0]) + \": Pullover\" )\n",
        "plt.show()"
      ]
    },
    {
      "cell_type": "markdown",
      "metadata": {
        "id": "4SvDdSB4v6AL"
      },
      "source": [
        "## 3.2 loading test data and output the prediction"
      ]
    },
    {
      "cell_type": "code",
      "execution_count": null,
      "metadata": {
        "colab": {
          "base_uri": "https://localhost:8080/"
        },
        "id": "eJB5te-_v6AL",
        "outputId": "39ad5aad-5941-499f-938c-1508ea2844d0"
      },
      "outputs": [
        {
          "data": {
            "text/plain": [
              "(30000, 28, 28)"
            ]
          },
          "execution_count": 6,
          "metadata": {},
          "output_type": "execute_result"
        }
      ],
      "source": [
        "data_train_feature.shape"
      ]
    },
    {
      "cell_type": "code",
      "execution_count": null,
      "metadata": {
        "id": "GbTLF5JAv6AL"
      },
      "outputs": [],
      "source": [
        "#test_input.csv includes 5000 samples used for label prediction. Test samples do not have labels.\n",
        "data_test_df = pd.read_csv('./Input/test_input.csv', index_col=0) "
      ]
    },
    {
      "cell_type": "code",
      "execution_count": null,
      "metadata": {
        "colab": {
          "base_uri": "https://localhost:8080/",
          "height": 267
        },
        "id": "KzXz1amLv6AL",
        "outputId": "f950e6be-38e9-4552-d3c9-d4ea540fe077"
      },
      "outputs": [
        {
          "data": {
            "text/html": [
              "\n",
              "  <div id=\"df-5c78103b-4301-4d69-afcd-6fe508527a15\">\n",
              "    <div class=\"colab-df-container\">\n",
              "      <div>\n",
              "<style scoped>\n",
              "    .dataframe tbody tr th:only-of-type {\n",
              "        vertical-align: middle;\n",
              "    }\n",
              "\n",
              "    .dataframe tbody tr th {\n",
              "        vertical-align: top;\n",
              "    }\n",
              "\n",
              "    .dataframe thead th {\n",
              "        text-align: right;\n",
              "    }\n",
              "</style>\n",
              "<table border=\"1\" class=\"dataframe\">\n",
              "  <thead>\n",
              "    <tr style=\"text-align: right;\">\n",
              "      <th></th>\n",
              "      <th>v1</th>\n",
              "      <th>v2</th>\n",
              "      <th>v3</th>\n",
              "      <th>v4</th>\n",
              "      <th>v5</th>\n",
              "      <th>...</th>\n",
              "      <th>v780</th>\n",
              "      <th>v781</th>\n",
              "      <th>v782</th>\n",
              "      <th>v783</th>\n",
              "      <th>v784</th>\n",
              "    </tr>\n",
              "    <tr>\n",
              "      <th>id</th>\n",
              "      <th></th>\n",
              "      <th></th>\n",
              "      <th></th>\n",
              "      <th></th>\n",
              "      <th></th>\n",
              "      <th></th>\n",
              "      <th></th>\n",
              "      <th></th>\n",
              "      <th></th>\n",
              "      <th></th>\n",
              "      <th></th>\n",
              "    </tr>\n",
              "  </thead>\n",
              "  <tbody>\n",
              "    <tr>\n",
              "      <th>0</th>\n",
              "      <td>0</td>\n",
              "      <td>0</td>\n",
              "      <td>0</td>\n",
              "      <td>0</td>\n",
              "      <td>0</td>\n",
              "      <td>...</td>\n",
              "      <td>0</td>\n",
              "      <td>0</td>\n",
              "      <td>0</td>\n",
              "      <td>0</td>\n",
              "      <td>0</td>\n",
              "    </tr>\n",
              "    <tr>\n",
              "      <th>1</th>\n",
              "      <td>0</td>\n",
              "      <td>0</td>\n",
              "      <td>0</td>\n",
              "      <td>0</td>\n",
              "      <td>0</td>\n",
              "      <td>...</td>\n",
              "      <td>0</td>\n",
              "      <td>0</td>\n",
              "      <td>0</td>\n",
              "      <td>0</td>\n",
              "      <td>0</td>\n",
              "    </tr>\n",
              "    <tr>\n",
              "      <th>2</th>\n",
              "      <td>0</td>\n",
              "      <td>0</td>\n",
              "      <td>0</td>\n",
              "      <td>0</td>\n",
              "      <td>0</td>\n",
              "      <td>...</td>\n",
              "      <td>0</td>\n",
              "      <td>0</td>\n",
              "      <td>0</td>\n",
              "      <td>0</td>\n",
              "      <td>0</td>\n",
              "    </tr>\n",
              "    <tr>\n",
              "      <th>3</th>\n",
              "      <td>0</td>\n",
              "      <td>0</td>\n",
              "      <td>0</td>\n",
              "      <td>0</td>\n",
              "      <td>0</td>\n",
              "      <td>...</td>\n",
              "      <td>0</td>\n",
              "      <td>0</td>\n",
              "      <td>0</td>\n",
              "      <td>0</td>\n",
              "      <td>0</td>\n",
              "    </tr>\n",
              "    <tr>\n",
              "      <th>4</th>\n",
              "      <td>0</td>\n",
              "      <td>0</td>\n",
              "      <td>0</td>\n",
              "      <td>0</td>\n",
              "      <td>0</td>\n",
              "      <td>...</td>\n",
              "      <td>0</td>\n",
              "      <td>0</td>\n",
              "      <td>0</td>\n",
              "      <td>0</td>\n",
              "      <td>0</td>\n",
              "    </tr>\n",
              "  </tbody>\n",
              "</table>\n",
              "<p>5 rows × 784 columns</p>\n",
              "</div>\n",
              "      <button class=\"colab-df-convert\" onclick=\"convertToInteractive('df-5c78103b-4301-4d69-afcd-6fe508527a15')\"\n",
              "              title=\"Convert this dataframe to an interactive table.\"\n",
              "              style=\"display:none;\">\n",
              "        \n",
              "  <svg xmlns=\"http://www.w3.org/2000/svg\" height=\"24px\"viewBox=\"0 0 24 24\"\n",
              "       width=\"24px\">\n",
              "    <path d=\"M0 0h24v24H0V0z\" fill=\"none\"/>\n",
              "    <path d=\"M18.56 5.44l.94 2.06.94-2.06 2.06-.94-2.06-.94-.94-2.06-.94 2.06-2.06.94zm-11 1L8.5 8.5l.94-2.06 2.06-.94-2.06-.94L8.5 2.5l-.94 2.06-2.06.94zm10 10l.94 2.06.94-2.06 2.06-.94-2.06-.94-.94-2.06-.94 2.06-2.06.94z\"/><path d=\"M17.41 7.96l-1.37-1.37c-.4-.4-.92-.59-1.43-.59-.52 0-1.04.2-1.43.59L10.3 9.45l-7.72 7.72c-.78.78-.78 2.05 0 2.83L4 21.41c.39.39.9.59 1.41.59.51 0 1.02-.2 1.41-.59l7.78-7.78 2.81-2.81c.8-.78.8-2.07 0-2.86zM5.41 20L4 18.59l7.72-7.72 1.47 1.35L5.41 20z\"/>\n",
              "  </svg>\n",
              "      </button>\n",
              "      \n",
              "  <style>\n",
              "    .colab-df-container {\n",
              "      display:flex;\n",
              "      flex-wrap:wrap;\n",
              "      gap: 12px;\n",
              "    }\n",
              "\n",
              "    .colab-df-convert {\n",
              "      background-color: #E8F0FE;\n",
              "      border: none;\n",
              "      border-radius: 50%;\n",
              "      cursor: pointer;\n",
              "      display: none;\n",
              "      fill: #1967D2;\n",
              "      height: 32px;\n",
              "      padding: 0 0 0 0;\n",
              "      width: 32px;\n",
              "    }\n",
              "\n",
              "    .colab-df-convert:hover {\n",
              "      background-color: #E2EBFA;\n",
              "      box-shadow: 0px 1px 2px rgba(60, 64, 67, 0.3), 0px 1px 3px 1px rgba(60, 64, 67, 0.15);\n",
              "      fill: #174EA6;\n",
              "    }\n",
              "\n",
              "    [theme=dark] .colab-df-convert {\n",
              "      background-color: #3B4455;\n",
              "      fill: #D2E3FC;\n",
              "    }\n",
              "\n",
              "    [theme=dark] .colab-df-convert:hover {\n",
              "      background-color: #434B5C;\n",
              "      box-shadow: 0px 1px 3px 1px rgba(0, 0, 0, 0.15);\n",
              "      filter: drop-shadow(0px 1px 2px rgba(0, 0, 0, 0.3));\n",
              "      fill: #FFFFFF;\n",
              "    }\n",
              "  </style>\n",
              "\n",
              "      <script>\n",
              "        const buttonEl =\n",
              "          document.querySelector('#df-5c78103b-4301-4d69-afcd-6fe508527a15 button.colab-df-convert');\n",
              "        buttonEl.style.display =\n",
              "          google.colab.kernel.accessAllowed ? 'block' : 'none';\n",
              "\n",
              "        async function convertToInteractive(key) {\n",
              "          const element = document.querySelector('#df-5c78103b-4301-4d69-afcd-6fe508527a15');\n",
              "          const dataTable =\n",
              "            await google.colab.kernel.invokeFunction('convertToInteractive',\n",
              "                                                     [key], {});\n",
              "          if (!dataTable) return;\n",
              "\n",
              "          const docLinkHtml = 'Like what you see? Visit the ' +\n",
              "            '<a target=\"_blank\" href=https://colab.research.google.com/notebooks/data_table.ipynb>data table notebook</a>'\n",
              "            + ' to learn more about interactive tables.';\n",
              "          element.innerHTML = '';\n",
              "          dataTable['output_type'] = 'display_data';\n",
              "          await google.colab.output.renderOutput(dataTable, element);\n",
              "          const docLink = document.createElement('div');\n",
              "          docLink.innerHTML = docLinkHtml;\n",
              "          element.appendChild(docLink);\n",
              "        }\n",
              "      </script>\n",
              "    </div>\n",
              "  </div>\n",
              "  "
            ],
            "text/plain": [
              "    v1  v2  v3  v4  v5  ...  v780  v781  v782  v783  v784\n",
              "id                      ...                              \n",
              "0    0   0   0   0   0  ...     0     0     0     0     0\n",
              "1    0   0   0   0   0  ...     0     0     0     0     0\n",
              "2    0   0   0   0   0  ...     0     0     0     0     0\n",
              "3    0   0   0   0   0  ...     0     0     0     0     0\n",
              "4    0   0   0   0   0  ...     0     0     0     0     0\n",
              "\n",
              "[5 rows x 784 columns]"
            ]
          },
          "execution_count": 8,
          "metadata": {},
          "output_type": "execute_result"
        }
      ],
      "source": [
        "data_test_df.head()"
      ]
    },
    {
      "cell_type": "markdown",
      "metadata": {
        "id": "XtU3akZdv6AN"
      },
      "source": [
        "## 4.1 Code\n",
        "### The code must clearly show :\n",
        "    1. Pre-process data\n",
        "    2. Details of your implementation for each algorithm\n",
        "    3. Fine-tune hyper-parameters for each algorithm and running time\n",
        "    4. The comparison result between 4 different algorithms including 3 single methods and one ensemble method\n",
        "    5. Hardware and software specifications of the computer that you used for performance evaluation"
      ]
    },
    {
      "cell_type": "markdown",
      "metadata": {
        "id": "6jtx3VGxv6AN"
      },
      "source": [
        "### 4.1.1 Data pre-processing"
      ]
    },
    {
      "cell_type": "code",
      "execution_count": null,
      "metadata": {
        "id": "ttlUvc6Sv6AN"
      },
      "outputs": [],
      "source": [
        "#cleaning visulized normalisation if distribution is skewed \n",
        "data_train_origin = data_train_df.loc[:, \"v1\":\"v784\"].to_numpy()\n",
        "data_test_origin = data_test_df.loc[:, \"v1\":\"v784\"].to_numpy()"
      ]
    },
    {
      "cell_type": "markdown",
      "metadata": {
        "id": "X1Z4fIGRQfGY"
      },
      "source": [
        "### hog transform, standardise and normalise the data"
      ]
    },
    {
      "cell_type": "code",
      "execution_count": null,
      "metadata": {
        "colab": {
          "base_uri": "https://localhost:8080/"
        },
        "id": "0UTdqiomv6AO",
        "outputId": "c8144062-3fb0-4032-e803-d2e78b143c34"
      },
      "outputs": [
        {
          "name": "stdout",
          "output_type": "stream",
          "text": [
            "(30000, 2025) (5000, 2025)\n",
            "CPU times: user 34.3 s, sys: 656 ms, total: 34.9 s\n",
            "Wall time: 38.1 s\n"
          ]
        }
      ],
      "source": [
        "%%time\n",
        "from skimage.feature import hog\n",
        "np.seterr(divide='ignore', invalid='ignore')\n",
        "hog_train = list()\n",
        "for image in data_train_origin.reshape(data_train_origin.shape[0],28,28):\n",
        "    im_train=hog(image, pixels_per_cell=(4,4))\n",
        "    hog_train.append(im_train)\n",
        "hog_data_train = np.array(hog_train)\n",
        "                \n",
        "hog_test = list()\n",
        "for image in data_test_origin.reshape(data_test_origin.shape[0],28,28):\n",
        "    im_test=hog(image, pixels_per_cell=(4,4))\n",
        "    hog_test.append(im_test)\n",
        "hog_data_test = np.array(hog_test)\n",
        "print(hog_data_train.shape, hog_data_test.shape)\n"
      ]
    },
    {
      "cell_type": "code",
      "execution_count": null,
      "metadata": {
        "colab": {
          "base_uri": "https://localhost:8080/"
        },
        "id": "r0uJGN1iv6AO",
        "outputId": "c457b57c-89c1-45bd-8da7-ea730d6d89b5"
      },
      "outputs": [
        {
          "name": "stdout",
          "output_type": "stream",
          "text": [
            "CPU times: user 1min 1s, sys: 11.3 s, total: 1min 12s\n",
            "Wall time: 1min\n"
          ]
        }
      ],
      "source": [
        "%%time\n",
        "\n",
        "from sklearn.preprocessing import StandardScaler\n",
        "from sklearn.preprocessing import normalize\n",
        "from sklearn.decomposition import PCA\n",
        "# hog_data_train=np.nan_to_num(hog_data_train)\n",
        "\n",
        "data_train_standerd= StandardScaler().fit_transform(hog_data_train)\n",
        "train_normal = normalize(data_train_standerd)\n",
        "pca = PCA(0.95)# choose minimal 95% of the principal components\n",
        "pca.fit(train_normal)\n"
      ]
    },
    {
      "cell_type": "code",
      "execution_count": null,
      "metadata": {
        "colab": {
          "base_uri": "https://localhost:8080/"
        },
        "id": "BiXfhvHXv6AO",
        "outputId": "f5720692-2924-4827-dfdb-9a7c5fe60a99"
      },
      "outputs": [
        {
          "name": "stdout",
          "output_type": "stream",
          "text": [
            "CPU times: user 16.9 s, sys: 1 s, total: 17.9 s\n",
            "Wall time: 9.26 s\n"
          ]
        }
      ],
      "source": [
        "%%time\n",
        "data_test_standerd= StandardScaler().fit_transform(hog_data_test)\n",
        "test_normal = normalize(data_test_standerd)\n",
        "\n",
        "pca.fit(test_normal)"
      ]
    },
    {
      "cell_type": "code",
      "execution_count": null,
      "metadata": {
        "colab": {
          "base_uri": "https://localhost:8080/"
        },
        "id": "yJJtKAazv6AO",
        "outputId": "71e5c1b3-f4e7-4357-dc46-a2f1791fcb1a"
      },
      "outputs": [
        {
          "data": {
            "text/plain": [
              "(5000, 333)"
            ]
          },
          "execution_count": 14,
          "metadata": {},
          "output_type": "execute_result"
        }
      ],
      "source": [
        "test_normal = pca.transform(test_normal)\n",
        "test_normal.shape"
      ]
    },
    {
      "cell_type": "markdown",
      "metadata": {
        "id": "xrT0U-AUv6AP"
      },
      "source": [
        "## Separate the test set and training set"
      ]
    },
    {
      "cell_type": "code",
      "execution_count": null,
      "metadata": {
        "id": "-Ak0H8l8v6AP"
      },
      "outputs": [],
      "source": [
        "from sklearn.model_selection import train_test_split\n",
        "X_train, X_test, y_train, y_test = train_test_split(\n",
        "    train_normal, data_train_label, random_state=0)\n",
        "\n",
        "X_train = pca.transform(X_train)\n",
        "X_test = pca.transform(X_test)"
      ]
    },
    {
      "cell_type": "code",
      "execution_count": null,
      "metadata": {
        "colab": {
          "base_uri": "https://localhost:8080/"
        },
        "id": "AATkOfdpv6AP",
        "outputId": "49e8ab3d-52ca-4a43-d168-95f3bb298fe9"
      },
      "outputs": [
        {
          "name": "stdout",
          "output_type": "stream",
          "text": [
            "X_train shape: (22500, 333)\n",
            "y_train shape: (22500,)\n"
          ]
        }
      ],
      "source": [
        "print(\"X_train shape:\", X_train.shape)\n",
        "print(\"y_train shape:\", y_train.shape)"
      ]
    },
    {
      "cell_type": "code",
      "execution_count": null,
      "metadata": {
        "colab": {
          "base_uri": "https://localhost:8080/"
        },
        "id": "1YbUzKz8v6AQ",
        "outputId": "ec669b37-3912-483c-c17c-3cb7de8b8dce"
      },
      "outputs": [
        {
          "name": "stdout",
          "output_type": "stream",
          "text": [
            "X_test shape: (7500, 333)\n",
            "y_test shape: (7500,)\n"
          ]
        }
      ],
      "source": [
        "print(\"X_test shape:\", X_test.shape)\n",
        "print(\"y_test shape:\", y_test.shape)"
      ]
    },
    {
      "cell_type": "markdown",
      "metadata": {
        "id": "7Q3IEAMpv6AQ"
      },
      "source": [
        "## KNN "
      ]
    },
    {
      "cell_type": "markdown",
      "metadata": {
        "id": "wAu_AKTOv6AQ"
      },
      "source": [
        "### Fitting of the KNN and Predication"
      ]
    },
    {
      "cell_type": "markdown",
      "metadata": {
        "id": "E1FvrVAOCAbr"
      },
      "source": [
        "KNN with default parameter"
      ]
    },
    {
      "cell_type": "code",
      "execution_count": null,
      "metadata": {
        "colab": {
          "base_uri": "https://localhost:8080/"
        },
        "id": "xUSejnviB--p",
        "outputId": "9753e47b-baf6-4467-ef04-fc4d3065f944"
      },
      "outputs": [
        {
          "name": "stdout",
          "output_type": "stream",
          "text": [
            "Accuracy on test set y: 0.85440\n",
            "              precision    recall  f1-score   support\n",
            "\n",
            "           0       0.73      0.84      0.78       735\n",
            "           1       0.94      0.97      0.95       748\n",
            "           2       0.73      0.82      0.77       760\n",
            "           3       0.89      0.86      0.87       770\n",
            "           4       0.79      0.77      0.78       755\n",
            "           5       0.97      0.89      0.93       758\n",
            "           6       0.73      0.53      0.61       761\n",
            "           7       0.89      0.95      0.92       781\n",
            "           8       0.95      0.97      0.96       742\n",
            "           9       0.94      0.96      0.95       690\n",
            "\n",
            "    accuracy                           0.85      7500\n",
            "   macro avg       0.86      0.86      0.85      7500\n",
            "weighted avg       0.85      0.85      0.85      7500\n",
            "\n",
            "CPU times: user 8.18 s, sys: 2.27 s, total: 10.4 s\n",
            "Wall time: 7.28 s\n"
          ]
        }
      ],
      "source": [
        "%%time\n",
        "\n",
        "knn = KNeighborsClassifier()\n",
        "knn.fit(X_train, y_train)\n",
        "y_pred = knn.predict(X_test)\n",
        "print(\"Accuracy on test set y: {:.5f}\".format(accuracy_score(y_test, y_pred)))\n",
        "accuracy_knn = accuracy_score(y_test, y_pred)\n",
        "print(classification_report(y_test, y_pred))"
      ]
    },
    {
      "cell_type": "markdown",
      "metadata": {
        "id": "PzPvOzswCDg-"
      },
      "source": [
        "KNN with turning parameter"
      ]
    },
    {
      "cell_type": "code",
      "execution_count": null,
      "metadata": {
        "colab": {
          "base_uri": "https://localhost:8080/"
        },
        "id": "5_XAVDgav6AQ",
        "outputId": "1665bd1a-e392-4c84-f1f7-14ba1e959156"
      },
      "outputs": [
        {
          "name": "stdout",
          "output_type": "stream",
          "text": [
            "Accuracy on test set y: 0.85920\n",
            "              precision    recall  f1-score   support\n",
            "\n",
            "           0       0.73      0.84      0.78       735\n",
            "           1       0.93      0.97      0.95       748\n",
            "           2       0.76      0.81      0.79       760\n",
            "           3       0.89      0.86      0.87       770\n",
            "           4       0.79      0.79      0.79       755\n",
            "           5       0.97      0.89      0.93       758\n",
            "           6       0.74      0.56      0.64       761\n",
            "           7       0.89      0.96      0.92       781\n",
            "           8       0.94      0.97      0.96       742\n",
            "           9       0.94      0.95      0.95       690\n",
            "\n",
            "    accuracy                           0.86      7500\n",
            "   macro avg       0.86      0.86      0.86      7500\n",
            "weighted avg       0.86      0.86      0.86      7500\n",
            "\n",
            "CPU times: user 7.72 s, sys: 440 ms, total: 8.16 s\n",
            "Wall time: 7.8 s\n"
          ]
        }
      ],
      "source": [
        "%%time\n",
        "\n",
        "knn = KNeighborsClassifier(n_neighbors=7,p=2)\n",
        "knn.fit(X_train, y_train)\n",
        "y_pred = knn.predict(X_test)\n",
        "print(\"Accuracy on test set y: {:.5f}\".format(accuracy_score(y_test, y_pred)))\n",
        "accuracy_knn = accuracy_score(y_test, y_pred)\n",
        "print(classification_report(y_test, y_pred))"
      ]
    },
    {
      "cell_type": "markdown",
      "metadata": {
        "id": "UcF6l2UEv6AQ"
      },
      "source": [
        "## Logistic Regression"
      ]
    },
    {
      "cell_type": "markdown",
      "metadata": {
        "id": "P6uuQhTBCJd7"
      },
      "source": [
        "Logistic regression default parameter"
      ]
    },
    {
      "cell_type": "code",
      "execution_count": null,
      "metadata": {
        "colab": {
          "base_uri": "https://localhost:8080/"
        },
        "id": "Ypy6zs1EBpOg",
        "outputId": "2dbc40f5-6ef7-4f32-ea30-d7ad2f332ef0"
      },
      "outputs": [
        {
          "name": "stdout",
          "output_type": "stream",
          "text": [
            "Accuracy on test set y: 0.86347\n",
            "              precision    recall  f1-score   support\n",
            "\n",
            "           0       0.82      0.82      0.82       735\n",
            "           1       0.96      0.96      0.96       748\n",
            "           2       0.81      0.77      0.79       760\n",
            "           3       0.86      0.88      0.87       770\n",
            "           4       0.77      0.79      0.78       755\n",
            "           5       0.94      0.92      0.93       758\n",
            "           6       0.67      0.66      0.67       761\n",
            "           7       0.90      0.94      0.92       781\n",
            "           8       0.95      0.96      0.96       742\n",
            "           9       0.96      0.94      0.95       690\n",
            "\n",
            "    accuracy                           0.86      7500\n",
            "   macro avg       0.86      0.86      0.86      7500\n",
            "weighted avg       0.86      0.86      0.86      7500\n",
            "\n",
            "CPU times: user 121 ms, sys: 131 ms, total: 252 ms\n",
            "Wall time: 9.02 s\n"
          ]
        }
      ],
      "source": [
        "%%time\n",
        "from sklearn.linear_model import LogisticRegression\n",
        "log_reg=LogisticRegression(n_jobs = -1)\n",
        "log_reg.fit(X_train, y_train)\n",
        "y_pred_log = log_reg.predict(X_test)\n",
        "print(\"Accuracy on test set y: {:.5f}\".format(accuracy_score(y_test, y_pred_log)))\n",
        "\n",
        "accuracy_log = accuracy_score(y_test, y_pred_log)\n",
        "print(classification_report(y_test, y_pred_log))"
      ]
    },
    {
      "cell_type": "markdown",
      "metadata": {
        "id": "LzQRcAm1CJBs"
      },
      "source": [
        "Logistic regression after turning"
      ]
    },
    {
      "cell_type": "code",
      "execution_count": null,
      "metadata": {
        "colab": {
          "base_uri": "https://localhost:8080/"
        },
        "id": "8HeFGwoov6AQ",
        "outputId": "00257e6d-9065-409a-ec56-cfd7286c3f3e"
      },
      "outputs": [
        {
          "name": "stdout",
          "output_type": "stream",
          "text": [
            "Accuracy on test set y: 0.86587\n",
            "              precision    recall  f1-score   support\n",
            "\n",
            "           0       0.81      0.82      0.81       735\n",
            "           1       0.96      0.96      0.96       748\n",
            "           2       0.81      0.79      0.80       760\n",
            "           3       0.86      0.87      0.87       770\n",
            "           4       0.78      0.79      0.78       755\n",
            "           5       0.95      0.93      0.94       758\n",
            "           6       0.67      0.67      0.67       761\n",
            "           7       0.92      0.95      0.93       781\n",
            "           8       0.97      0.95      0.96       742\n",
            "           9       0.95      0.95      0.95       690\n",
            "\n",
            "    accuracy                           0.87      7500\n",
            "   macro avg       0.87      0.87      0.87      7500\n",
            "weighted avg       0.87      0.87      0.87      7500\n",
            "\n",
            "CPU times: user 28.3 s, sys: 52 ms, total: 28.3 s\n",
            "Wall time: 28.2 s\n"
          ]
        }
      ],
      "source": [
        "%%time\n",
        "from sklearn.linear_model import LogisticRegression\n",
        "log_reg=LogisticRegression(penalty='l2',C = 5,solver = 'sag',max_iter=800,n_jobs = -1)\n",
        "log_reg.fit(X_train, y_train)\n",
        "y_pred_log = log_reg.predict(X_test)\n",
        "print(\"Accuracy on test set y: {:.5f}\".format(accuracy_score(y_test, y_pred_log)))\n",
        "accuracy_log = accuracy_score(y_test, y_pred_log)\n",
        "print(classification_report(y_test, y_pred_log))"
      ]
    },
    {
      "cell_type": "markdown",
      "metadata": {
        "id": "t1Z6Du0Fv6AR"
      },
      "source": [
        "## Naïve Bayes"
      ]
    },
    {
      "cell_type": "markdown",
      "metadata": {
        "id": "cZmC5mD7SN3s"
      },
      "source": [
        "we tried two different naive bayes methods and found out that gaussian will gives us a better result on valid set"
      ]
    },
    {
      "cell_type": "code",
      "execution_count": null,
      "metadata": {
        "colab": {
          "base_uri": "https://localhost:8080/"
        },
        "id": "RGk4H4Ngv6AR",
        "outputId": "3ca5c775-c4f5-4709-8a52-e5ac4d88741f"
      },
      "outputs": [
        {
          "name": "stdout",
          "output_type": "stream",
          "text": [
            "Accuracy of Gauss on test set y: 0.79333\n",
            "Accuracy of Berno on test set y: 0.77707\n",
            "              precision    recall  f1-score   support\n",
            "\n",
            "           0       0.78      0.74      0.76       735\n",
            "           1       0.95      0.86      0.90       748\n",
            "           2       0.75      0.69      0.72       760\n",
            "           3       0.71      0.77      0.74       770\n",
            "           4       0.75      0.72      0.73       755\n",
            "           5       0.88      0.88      0.88       758\n",
            "           6       0.50      0.61      0.55       761\n",
            "           7       0.88      0.88      0.88       781\n",
            "           8       0.88      0.89      0.89       742\n",
            "           9       0.94      0.90      0.92       690\n",
            "\n",
            "    accuracy                           0.79      7500\n",
            "   macro avg       0.80      0.79      0.80      7500\n",
            "weighted avg       0.80      0.79      0.80      7500\n",
            "\n",
            "CPU times: user 474 ms, sys: 392 ms, total: 866 ms\n",
            "Wall time: 976 ms\n"
          ]
        }
      ],
      "source": [
        "%%time\n",
        "from sklearn.naive_bayes import GaussianNB\n",
        "from sklearn.naive_bayes import CategoricalNB\n",
        "from sklearn.naive_bayes import MultinomialNB\n",
        "from sklearn.naive_bayes import BernoulliNB\n",
        "#GaussianNB\n",
        "Gauss = GaussianNB()\n",
        "Gauss.fit(X_train, y_train)\n",
        "y_pred_Gauss = Gauss.predict(X_test)\n",
        "Berno=BernoulliNB()\n",
        "Berno.fit(X_train, y_train)\n",
        "y_pred_Berno = Berno.predict(X_test)\n",
        "print(\"Accuracy of Gauss on test set y: {:.5f}\".format(accuracy_score(y_test, y_pred_Gauss)))\n",
        "accuracy_NB = accuracy_score(y_test, y_pred_Gauss)\n",
        "print(\"Accuracy of Berno on test set y: {:.5f}\".format(accuracy_score(y_test, y_pred_Berno)))\n",
        "print(classification_report(y_test, y_pred_Gauss))\n"
      ]
    },
    {
      "cell_type": "markdown",
      "metadata": {
        "id": "9IOD-cSDv6AR"
      },
      "source": [
        "## SVM"
      ]
    },
    {
      "cell_type": "markdown",
      "metadata": {
        "id": "7ITZHvZZ5QSt"
      },
      "source": [
        "this is default SVM"
      ]
    },
    {
      "cell_type": "code",
      "execution_count": null,
      "metadata": {
        "colab": {
          "base_uri": "https://localhost:8080/"
        },
        "id": "q9CHrF8I5N_4",
        "outputId": "2b2b1370-a5a0-4bc5-c838-edcae494eec3"
      },
      "outputs": [
        {
          "name": "stdout",
          "output_type": "stream",
          "text": [
            "Accuracy on test set y: 0.88773\n",
            "              precision    recall  f1-score   support\n",
            "\n",
            "           0       0.81      0.84      0.82       735\n",
            "           1       0.98      0.96      0.97       748\n",
            "           2       0.84      0.83      0.83       760\n",
            "           3       0.86      0.91      0.88       770\n",
            "           4       0.84      0.82      0.83       755\n",
            "           5       0.97      0.94      0.96       758\n",
            "           6       0.71      0.70      0.71       761\n",
            "           7       0.93      0.96      0.94       781\n",
            "           8       0.98      0.97      0.97       742\n",
            "           9       0.96      0.96      0.96       690\n",
            "\n",
            "    accuracy                           0.89      7500\n",
            "   macro avg       0.89      0.89      0.89      7500\n",
            "weighted avg       0.89      0.89      0.89      7500\n",
            "\n",
            "CPU times: user 1min 8s, sys: 119 ms, total: 1min 8s\n",
            "Wall time: 1min 14s\n"
          ]
        }
      ],
      "source": [
        "%%time\n",
        "from sklearn.svm import SVC\n",
        "svc_classifier = SVC()\n",
        "svc_classifier.fit(X_train, y_train)\n",
        "y_pred_svc = svc_classifier.predict(X_test)\n",
        "print(\"Accuracy on test set y: {:.5f}\".format(accuracy_score(y_test, y_pred_svc)))\n",
        "accuracy_SVM = accuracy_score(y_test, y_pred_svc)\n",
        "print(classification_report(y_test, y_pred_svc))"
      ]
    },
    {
      "cell_type": "markdown",
      "metadata": {
        "id": "09_KSXvS5Tpa"
      },
      "source": [
        "this is after turning SVM"
      ]
    },
    {
      "cell_type": "code",
      "execution_count": null,
      "metadata": {
        "colab": {
          "base_uri": "https://localhost:8080/"
        },
        "id": "5BqBzHxvv6AR",
        "outputId": "0a6968cf-8310-48ab-cf18-e9cfd07d13f4"
      },
      "outputs": [
        {
          "name": "stdout",
          "output_type": "stream",
          "text": [
            "Accuracy on test set y: 0.89347\n",
            "              precision    recall  f1-score   support\n",
            "\n",
            "           0       0.82      0.84      0.83       735\n",
            "           1       0.98      0.96      0.97       748\n",
            "           2       0.84      0.84      0.84       760\n",
            "           3       0.88      0.90      0.89       770\n",
            "           4       0.85      0.83      0.84       755\n",
            "           5       0.97      0.96      0.96       758\n",
            "           6       0.72      0.72      0.72       761\n",
            "           7       0.94      0.96      0.95       781\n",
            "           8       0.98      0.98      0.98       742\n",
            "           9       0.96      0.95      0.96       690\n",
            "\n",
            "    accuracy                           0.89      7500\n",
            "   macro avg       0.89      0.89      0.89      7500\n",
            "weighted avg       0.89      0.89      0.89      7500\n",
            "\n",
            "CPU times: user 1min 8s, sys: 68.2 ms, total: 1min 8s\n",
            "Wall time: 1min 9s\n"
          ]
        }
      ],
      "source": [
        "%%time\n",
        "from sklearn.svm import SVC\n",
        "svc_classifier = SVC(C=3, gamma=1.2 )\n",
        "svc_classifier.fit(X_train, y_train)\n",
        "y_pred_svc = svc_classifier.predict(X_test)\n",
        "print(\"Accuracy on test set y: {:.5f}\".format(accuracy_score(y_test, y_pred_svc)))\n",
        "accuracy_SVM = accuracy_score(y_test, y_pred_svc)\n",
        "print(classification_report(y_test, y_pred_svc))"
      ]
    },
    {
      "cell_type": "markdown",
      "metadata": {
        "id": "amN3uTGEv6AR"
      },
      "source": [
        "## since this gives us the best performance on holdout test, we decide to use it to \n",
        "\n",
        "## make prediction on test file"
      ]
    },
    {
      "cell_type": "code",
      "execution_count": null,
      "metadata": {
        "colab": {
          "base_uri": "https://localhost:8080/"
        },
        "id": "T05liz4Kv6AR",
        "outputId": "d911009a-7ec0-4698-c3c4-094c4fb0d6ca"
      },
      "outputs": [
        {
          "name": "stdout",
          "output_type": "stream",
          "text": [
            "CPU times: user 23.6 s, sys: 25.6 ms, total: 23.6 s\n",
            "Wall time: 26 s\n"
          ]
        }
      ],
      "source": [
        "%%time\n",
        "#2.98 current best\n",
        "# svc_classifier = SVC(C=2.975)\n",
        "# svc_classifier.fit(X_train, y_train)\n",
        "test_pred_svc = svc_classifier.predict(test_normal)"
      ]
    },
    {
      "cell_type": "code",
      "execution_count": null,
      "metadata": {
        "id": "Decjt8Fnv6AS"
      },
      "outputs": [],
      "source": [
        "output_df = pd.DataFrame(test_pred_svc, columns = ['label'])\n",
        "output_df\n",
        "output_df.to_csv('./Output/test_output.csv', sep=\",\", float_format='%d', index_label=\"id\")"
      ]
    },
    {
      "cell_type": "markdown",
      "metadata": {
        "id": "VDirrRh1v6AS"
      },
      "source": [
        "## Random forest"
      ]
    },
    {
      "cell_type": "markdown",
      "metadata": {
        "id": "JyKIUDfe_6_v"
      },
      "source": [
        "random forest with default parameter"
      ]
    },
    {
      "cell_type": "code",
      "execution_count": null,
      "metadata": {
        "colab": {
          "base_uri": "https://localhost:8080/"
        },
        "id": "_z_bl9v-_3-X",
        "outputId": "26fdbb39-ca45-4fc7-cbc8-08832da22f51"
      },
      "outputs": [
        {
          "name": "stdout",
          "output_type": "stream",
          "text": [
            "Random forest ensemble - accuracy on test set:\n",
            "0.8368\n",
            "              precision    recall  f1-score   support\n",
            "\n",
            "           0       0.77      0.80      0.79       735\n",
            "           1       0.97      0.94      0.96       748\n",
            "           2       0.75      0.76      0.75       760\n",
            "           3       0.81      0.86      0.83       770\n",
            "           4       0.74      0.78      0.76       755\n",
            "           5       0.92      0.92      0.92       758\n",
            "           6       0.65      0.53      0.58       761\n",
            "           7       0.89      0.92      0.90       781\n",
            "           8       0.92      0.95      0.94       742\n",
            "           9       0.94      0.92      0.93       690\n",
            "\n",
            "    accuracy                           0.84      7500\n",
            "   macro avg       0.84      0.84      0.84      7500\n",
            "weighted avg       0.83      0.84      0.83      7500\n",
            "\n",
            "CPU times: user 1min, sys: 572 ms, total: 1min 1s\n",
            "Wall time: 31.5 s\n"
          ]
        }
      ],
      "source": [
        "%%time\n",
        "from sklearn.ensemble import RandomForestClassifier\n",
        "\n",
        "ran_for = RandomForestClassifier(n_jobs =-1)\n",
        "ran_for.fit(X_train, y_train)\n",
        "y_pred_rf = ran_for.predict(X_test)\n",
        "print(\"Random forest ensemble - accuracy on test set:\")\n",
        "print(accuracy_score(y_test, y_pred_rf))\n",
        "accuracy_forest = accuracy_score(y_test, y_pred_rf)\n",
        "print(classification_report(y_test, y_pred_rf))"
      ]
    },
    {
      "cell_type": "markdown",
      "metadata": {
        "id": "9ZRxeZ80_-9l"
      },
      "source": [
        "random forest after turning"
      ]
    },
    {
      "cell_type": "code",
      "execution_count": null,
      "metadata": {
        "colab": {
          "base_uri": "https://localhost:8080/"
        },
        "id": "T4hPNCA4v6AS",
        "outputId": "c1322abc-2207-4305-9702-4a5da2c21f56"
      },
      "outputs": [
        {
          "name": "stdout",
          "output_type": "stream",
          "text": [
            "Random forest ensemble - accuracy on test set:\n",
            "0.8482666666666666\n",
            "              precision    recall  f1-score   support\n",
            "\n",
            "           0       0.78      0.81      0.80       735\n",
            "           1       0.98      0.94      0.96       748\n",
            "           2       0.78      0.76      0.77       760\n",
            "           3       0.80      0.87      0.83       770\n",
            "           4       0.76      0.81      0.78       755\n",
            "           5       0.92      0.93      0.93       758\n",
            "           6       0.68      0.58      0.63       761\n",
            "           7       0.90      0.92      0.91       781\n",
            "           8       0.93      0.95      0.94       742\n",
            "           9       0.94      0.92      0.93       690\n",
            "\n",
            "    accuracy                           0.85      7500\n",
            "   macro avg       0.85      0.85      0.85      7500\n",
            "weighted avg       0.85      0.85      0.85      7500\n",
            "\n",
            "CPU times: user 4min 52s, sys: 443 ms, total: 4min 53s\n",
            "Wall time: 2min 31s\n"
          ]
        }
      ],
      "source": [
        "%%time\n",
        "from sklearn.ensemble import RandomForestClassifier\n",
        "\n",
        "ran_for = RandomForestClassifier(n_estimators=500,min_samples_leaf=1 , n_jobs =-1)\n",
        "ran_for.fit(X_train, y_train)\n",
        "y_pred_rf = ran_for.predict(X_test)\n",
        "print(\"Random forest ensemble - accuracy on test set:\")\n",
        "print(accuracy_score(y_test, y_pred_rf))\n",
        "accuracy_forest = accuracy_score(y_test, y_pred_rf)\n",
        "print(classification_report(y_test, y_pred_rf))"
      ]
    },
    {
      "cell_type": "markdown",
      "metadata": {
        "id": "3PTIKoRrv6AS"
      },
      "source": [
        "### 4.1.3 Parameter Tuning"
      ]
    },
    {
      "cell_type": "markdown",
      "metadata": {
        "id": "3_n6tD92v6AS"
      },
      "source": [
        "For each classifiers we would like to find the best parameters using grid search with k-fold (k>=5) cross validation."
      ]
    },
    {
      "cell_type": "markdown",
      "metadata": {
        "id": "x4bV3rgfv6AS"
      },
      "source": [
        "### Cross validation with 5-fold to find the best parameter"
      ]
    },
    {
      "cell_type": "markdown",
      "metadata": {
        "id": "qLZkrXGnv6AS"
      },
      "source": [
        "### KNN CV"
      ]
    },
    {
      "cell_type": "markdown",
      "metadata": {
        "id": "_jf_v6Avv6AT"
      },
      "source": [
        "### turning for KNN"
      ]
    },
    {
      "cell_type": "code",
      "execution_count": null,
      "metadata": {
        "colab": {
          "base_uri": "https://localhost:8080/"
        },
        "id": "rCZqGad_v6AT",
        "outputId": "ff59f98a-93d4-4977-91f0-3cd169117866"
      },
      "outputs": [
        {
          "name": "stdout",
          "output_type": "stream",
          "text": [
            "Test set score: 0.8592\n",
            "Best parameters: {'n_neighbors': 7, 'p': 2}\n",
            "Best cross-validation score: 0.8647\n",
            "Best estimator:\n",
            "KNeighborsClassifier(n_neighbors=7)\n",
            "CPU times: user 5min 57s, sys: 15.1 s, total: 6min 12s\n",
            "Wall time: 4min 1s\n"
          ]
        }
      ],
      "source": [
        "%%time\n",
        "\n",
        "param_grid = {'n_neighbors': [1,3,5,7],\n",
        "              'p': [2]}\n",
        "\n",
        "grid_search = GridSearchCV(KNeighborsClassifier(), param_grid, cv=5,\n",
        "                          return_train_score=True)\n",
        "grid_search.fit(X_train, y_train)\n",
        "print(\"Test set score: {:.4f}\".format(grid_search.score(X_test, y_test)))\n",
        "print(\"Best parameters: {}\".format(grid_search.best_params_))\n",
        "print(\"Best cross-validation score: {:.4f}\".format(grid_search.best_score_))\n",
        "print(\"Best estimator:\\n{}\".format(grid_search.best_estimator_))\n"
      ]
    },
    {
      "cell_type": "markdown",
      "metadata": {
        "id": "_RWFbmz1v6AT"
      },
      "source": [
        "### turning for logistic regression"
      ]
    },
    {
      "cell_type": "code",
      "execution_count": null,
      "metadata": {
        "colab": {
          "background_save": true
        },
        "id": "GfgLTZNEv6AT",
        "outputId": "6265f55d-6a9a-4964-ce6b-3c71a81b66c7"
      },
      "outputs": [
        {
          "name": "stdout",
          "output_type": "stream",
          "text": [
            "Test set score: 0.8657\n",
            "Best parameters: {'C': 5, 'solver': 'sag'}\n",
            "Best cross-validation score: 0.8731\n",
            "Best estimator:\n",
            "LogisticRegression(C=5, max_iter=800, solver='sag')\n",
            "CPU times: user 32.1 s, sys: 546 ms, total: 32.6 s\n",
            "Wall time: 13min 30s\n"
          ]
        }
      ],
      "source": [
        "%%time\n",
        "\n",
        "param_grid={'C': [5,7,10], 'solver':['sag','lbfgs','newton-cg','saga']}\n",
        "\n",
        "grid_search = GridSearchCV(LogisticRegression(penalty='l2',max_iter=800), param_grid, cv=5,\n",
        "                          return_train_score=True,n_jobs =-1)\n",
        "grid_search.fit(X_train, y_train)\n",
        "print(\"Test set score: {:.4f}\".format(grid_search.score(X_test, y_test)))\n",
        "print(\"Best parameters: {}\".format(grid_search.best_params_))\n",
        "print(\"Best cross-validation score: {:.4f}\".format(grid_search.best_score_))\n",
        "print(\"Best estimator:\\n{}\".format(grid_search.best_estimator_))\n"
      ]
    },
    {
      "cell_type": "markdown",
      "metadata": {
        "id": "8DW_rCbNv6AT"
      },
      "source": [
        "## SVM turning"
      ]
    },
    {
      "cell_type": "code",
      "execution_count": null,
      "metadata": {
        "colab": {
          "base_uri": "https://localhost:8080/"
        },
        "id": "X34Oz78Zv6AT",
        "outputId": "417e6a54-884f-4b37-9020-53f85f3793d8"
      },
      "outputs": [
        {
          "name": "stdout",
          "output_type": "stream",
          "text": [
            "Test set score: 0.8935\n",
            "Best parameters: {'C': 3, 'gamma': 1.2}\n",
            "Best cross-validation score: 0.8983\n",
            "Best estimator:\n",
            "SVC(C=3, gamma=1.2)\n",
            "CPU times: user 13min 37s, sys: 983 ms, total: 13min 38s\n",
            "Wall time: 13min 35s\n"
          ]
        }
      ],
      "source": [
        "%%time\n",
        "from sklearn.svm import SVC\n",
        "param_grid={'C': [2.98, 3],'gamma' : ['scale',1.2]}\n",
        "\n",
        "grid_search = GridSearchCV(SVC(), param_grid, cv=5)\n",
        "grid_search.fit(X_train, y_train)\n",
        "\n",
        "print(\"Test set score: {:.4f}\".format(grid_search.score(X_test, y_test)))\n",
        "print(\"Best parameters: {}\".format(grid_search.best_params_))\n",
        "print(\"Best cross-validation score: {:.4f}\".format(grid_search.best_score_))\n",
        "print(\"Best estimator:\\n{}\".format(grid_search.best_estimator_))"
      ]
    },
    {
      "cell_type": "markdown",
      "metadata": {
        "id": "J6961_E-v6AU"
      },
      "source": [
        "### turning for random forest"
      ]
    },
    {
      "cell_type": "code",
      "execution_count": null,
      "metadata": {
        "colab": {
          "base_uri": "https://localhost:8080/"
        },
        "id": "445BIMwmv6AU",
        "outputId": "7e5ab5bd-76ac-45f4-9830-1ed8e044361d"
      },
      "outputs": [
        {
          "name": "stdout",
          "output_type": "stream",
          "text": [
            "Test set score: 0.8424\n",
            "Best parameters: {'n_estimators': 500}\n",
            "Best cross-validation score: 0.8518\n",
            "Best estimator:\n",
            "RandomForestClassifier(n_estimators=500, n_jobs=-1)\n",
            "CPU times: user 5min 20s, sys: 3.15 s, total: 5min 23s\n",
            "Wall time: 15min 8s\n"
          ]
        }
      ],
      "source": [
        "%%time\n",
        "param_grid={'n_estimators': [100,500]}\n",
        "\n",
        "grid_search = GridSearchCV(RandomForestClassifier(n_jobs =-1), param_grid, cv=5)\n",
        "grid_search.fit(X_train, y_train)\n",
        "\n",
        "print(\"Test set score: {:.4f}\".format(grid_search.score(X_test, y_test)))\n",
        "print(\"Best parameters: {}\".format(grid_search.best_params_))\n",
        "print(\"Best cross-validation score: {:.4f}\".format(grid_search.best_score_))\n",
        "print(\"Best estimator:\\n{}\".format(grid_search.best_estimator_))\n"
      ]
    },
    {
      "cell_type": "markdown",
      "metadata": {
        "id": "i9oKXlApv6AU"
      },
      "source": [
        "### 4.1.4 Classifier comparisons"
      ]
    },
    {
      "cell_type": "markdown",
      "metadata": {
        "id": "JKr8sIxNv6AU"
      },
      "source": [
        "After finding the best parameter for each algorithm, we would like to make comparisons between all classifiers using their own best hyper-parameters."
      ]
    },
    {
      "cell_type": "code",
      "execution_count": null,
      "metadata": {
        "id": "HxLCgvYov6AU"
      },
      "outputs": [],
      "source": [
        "tests = [\"KNN\",\"Logistic\",\"naive bayes\",\"SVM\",\"Random Forest\"]\n",
        "results = []\n",
        "results.append(accuracy_knn)\n",
        "results.append(accuracy_log)\n",
        "results.append(accuracy_NB)\n",
        "results.append(accuracy_SVM)\n",
        "results.append(accuracy_forest)\n",
        "\n"
      ]
    },
    {
      "cell_type": "code",
      "execution_count": null,
      "metadata": {
        "colab": {
          "base_uri": "https://localhost:8080/",
          "height": 265
        },
        "id": "65y8GUGpv6AU",
        "outputId": "7dd560d7-a494-4068-84ba-35f5cdcb6aa1"
      },
      "outputs": [
        {
          "data": {
            "image/png": "[encoded data removed]",
            "text/plain": [
              "<Figure size 432x288 with 1 Axes>"
            ]
          },
          "metadata": {
            "needs_background": "light"
          },
          "output_type": "display_data"
        }
      ],
      "source": [
        "\n",
        "fig, ax = plt.subplots()\n",
        "\n",
        "p1 = ax.bar(tests, results, width=0.8, label='method',color = ['red', 'orange', 'yellow', 'green', 'blue'])\n",
        "ax.set_ylabel('Scores')\n",
        "ax.bar_label(p1, label_type='edge')\n",
        "plt.plot()  \n",
        "plt.savefig('./Output/comparison_g.jpg')"
      ]
    }
  ],
  "metadata": {
    "anaconda-cloud": {},
    "colab": {
      "collapsed_sections": [
        "x4bV3rgfv6AS",
        "qLZkrXGnv6AS"
      ],
      "name": "ASM1_comp5318.ipynb",
      "provenance": []
    },
    "kernelspec": {
      "display_name": "Python 3 (ipykernel)",
      "language": "python",
      "name": "python3"
    },
    "language_info": {
      "codemirror_mode": {
        "name": "ipython",
        "version": 3
      },
      "file_extension": ".py",
      "mimetype": "text/x-python",
      "name": "python",
      "nbconvert_exporter": "python",
      "pygments_lexer": "ipython3",
      "version": "3.8.8"
    }
  },
  "nbformat": 4,
  "nbformat_minor": 0
}